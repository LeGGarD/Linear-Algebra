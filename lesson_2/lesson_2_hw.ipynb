{
 "cells": [
  {
   "cell_type": "markdown",
   "metadata": {},
   "source": [
    "# Матричные операции. Часть 1\n",
    "\n",
    "#### __1.__ Установить, какие произведения матриц $AB$ и $BA$ определены, и найти размерности полученных матриц:\n",
    "\n",
    "   а) $A$ — матрица $4\\times 2$, $B$ — матрица $4\\times 2$;\n",
    "    \n",
    "   б) $A$ — матрица $2\\times 5$, $B$ — матрица $5\\times 3$;\n",
    "    \n",
    "   в) $A$ — матрица $8\\times 3$, $B$ — матрица $3\\times 8$;\n",
    "    \n",
    "   г) $A$ — квадратная матрица $4\\times 4$, $B$ — квадратная матрица $4\\times 4$."
   ]
  },
  {
   "cell_type": "markdown",
   "metadata": {},
   "source": [
    "Варианты матриц а) и б) не перемножаются друг на друга, так как кол-во строк и столбцов у них попарно не совпадает. Если бы в а) были матрицы 4х2 и 2х4 - можно было бы перемножить. Вариант б) должен был быть 2х5 и 5х2, либо 3х5 и 5х3.\n",
    "\n",
    "Вариант в). Размерность будет 8х8, так как каждая строка умножается на каждый столбец\n",
    "\n",
    "Вариант г). Матрица останется квадратной, т.е. 4х4"
   ]
  },
  {
   "cell_type": "markdown",
   "metadata": {},
   "source": [
    "#### _после просмотра разбора_:\n",
    "\n",
    "чтобы перемножить матрицы, надо чтобы кол-во столбцов у первой совпадало с кол-вом строк у второй, строки первой могут не совпадать с кол-вом столбцов второй\n",
    "\n",
    "кроме того, я забыл про умножение В на А\n",
    "\n",
    "поэтому:\n",
    "\n",
    "а) Все еще нельзя перемножать\n",
    "\n",
    "б) AB можно умножить (2х3), BA нельзя\n",
    "\n",
    "в) AB будет 8х8, ВА будет 3х3\n",
    "\n",
    "г) можно, останется квадратной"
   ]
  },
  {
   "cell_type": "markdown",
   "metadata": {},
   "source": [
    "#### __2.__ Найти сумму и произведение матриц $A=\\begin{pmatrix}\n",
    "1 & -2\\\\ \n",
    "3 & 0\n",
    "\\end{pmatrix}$ и $B=\\begin{pmatrix}\n",
    "4 & -1\\\\ \n",
    "0 & 5\n",
    "\\end{pmatrix}.$"
   ]
  },
  {
   "cell_type": "markdown",
   "metadata": {},
   "source": [
    "<img src=\"./img_l2/1-2.jpg\" alt=\"Drawing\" style=\"width: 600px;\"/>"
   ]
  },
  {
   "cell_type": "code",
   "execution_count": 1,
   "metadata": {},
   "outputs": [],
   "source": [
    "import numpy as np"
   ]
  },
  {
   "cell_type": "code",
   "execution_count": 2,
   "metadata": {},
   "outputs": [],
   "source": [
    "A = np.array([[1, -2], [3, 0]])\n",
    "B = np.array([[4, -1], [0, 5]])"
   ]
  },
  {
   "cell_type": "code",
   "execution_count": 3,
   "metadata": {},
   "outputs": [
    {
     "name": "stdout",
     "output_type": "stream",
     "text": [
      "[[ 5 -3]\n",
      " [ 3  5]]\n"
     ]
    }
   ],
   "source": [
    "print(A + B)"
   ]
  },
  {
   "cell_type": "code",
   "execution_count": 4,
   "metadata": {},
   "outputs": [
    {
     "name": "stdout",
     "output_type": "stream",
     "text": [
      "[[  4 -11]\n",
      " [ 12  -3]]\n"
     ]
    }
   ],
   "source": [
    "print(A @ B)"
   ]
  },
  {
   "cell_type": "code",
   "execution_count": 5,
   "metadata": {},
   "outputs": [
    {
     "name": "stdout",
     "output_type": "stream",
     "text": [
      "[[ 1 -8]\n",
      " [15  0]]\n"
     ]
    }
   ],
   "source": [
    "print(B @ A)"
   ]
  },
  {
   "cell_type": "markdown",
   "metadata": {},
   "source": [
    "#### __3.__ Из закономерностей сложения и умножения матриц на число можно сделать вывод, что матрицы одного размера образуют линейное пространство. Вычислить линейную комбинацию $3A-2B+4C$ для матриц $A=\\begin{pmatrix}\n",
    "1 & 7\\\\ \n",
    "3 & -6\n",
    "\\end{pmatrix}$, $B=\\begin{pmatrix}\n",
    "0 & 5\\\\ \n",
    "2 & -1\n",
    "\\end{pmatrix}$, $C=\\begin{pmatrix}\n",
    "2 & -4\\\\ \n",
    "1 & 1\n",
    "\\end{pmatrix}.$"
   ]
  },
  {
   "cell_type": "markdown",
   "metadata": {},
   "source": [
    "<img src=\"./img_l2/1-3.jpg\" alt=\"Drawing\" style=\"width: 600px;\"/>"
   ]
  },
  {
   "cell_type": "code",
   "execution_count": 6,
   "metadata": {},
   "outputs": [],
   "source": [
    "A = np.array([[1, 7], [3, -6]])\n",
    "B = np.array([[0, 5], [2, -1]])\n",
    "C = np.array([[2, -4], [1, 1]])"
   ]
  },
  {
   "cell_type": "code",
   "execution_count": 7,
   "metadata": {},
   "outputs": [
    {
     "name": "stdout",
     "output_type": "stream",
     "text": [
      "[[ 11  -5]\n",
      " [  9 -12]]\n"
     ]
    }
   ],
   "source": [
    "print(3 * A - 2 * B + 4 * C)"
   ]
  },
  {
   "cell_type": "markdown",
   "metadata": {},
   "source": [
    "#### __4.__ Дана матрица $A=\\begin{pmatrix}\n",
    "4 & 1\\\\ \n",
    "5 & -2\\\\ \n",
    "2 & 3\n",
    "\\end{pmatrix}$.\n",
    "Вычислить $AA^{T}$ и $A^{T}A$."
   ]
  },
  {
   "cell_type": "markdown",
   "metadata": {},
   "source": [
    "<img src=\"./img_l2/1-4.jpg\" alt=\"Drawing\" style=\"width: 600px;\"/>"
   ]
  },
  {
   "cell_type": "code",
   "execution_count": 10,
   "metadata": {},
   "outputs": [
    {
     "name": "stdout",
     "output_type": "stream",
     "text": [
      "[[ 4  1]\n",
      " [ 5 -2]\n",
      " [ 2  3]]\n",
      "\n",
      "[[ 4  5  2]\n",
      " [ 1 -2  3]]\n"
     ]
    }
   ],
   "source": [
    "A = np.array([[4, 1], [5, -2], [2, 3]])\n",
    "AT = A.T\n",
    "\n",
    "print(f'{A}\\n\\n{AT}')"
   ]
  },
  {
   "cell_type": "code",
   "execution_count": 12,
   "metadata": {},
   "outputs": [
    {
     "name": "stdout",
     "output_type": "stream",
     "text": [
      "[[17 18 11]\n",
      " [18 29  4]\n",
      " [11  4 13]]\n"
     ]
    }
   ],
   "source": [
    "print(A @ AT)"
   ]
  },
  {
   "cell_type": "code",
   "execution_count": 13,
   "metadata": {},
   "outputs": [
    {
     "name": "stdout",
     "output_type": "stream",
     "text": [
      "[[45  0]\n",
      " [ 0 14]]\n"
     ]
    }
   ],
   "source": [
    "print(AT @ A)"
   ]
  },
  {
   "cell_type": "markdown",
   "metadata": {},
   "source": [
    "#### __5*.__ Написать на Python функцию для перемножения двух произвольных матриц, не используя NumPy."
   ]
  },
  {
   "cell_type": "code",
   "execution_count": 80,
   "metadata": {},
   "outputs": [],
   "source": [
    "def matr_transp(A):\n",
    "    AT = [[] for el in range(len(A[0]))]\n",
    "    for i1 in range(len(A[0])):\n",
    "        for i2 in range(len(A)):\n",
    "            AT[i1].append(A[i2][i1])\n",
    "        \n",
    "    return AT\n",
    "\n",
    "def matr_mult(A, B):\n",
    "    \n",
    "#     if len(A) == len(B[0]) and len(A[0]) == len(B):\n",
    "#     посмотрел разбор, главное чтобы совпадали кол-во столбцов первой матрицы с кол-вом строк второй, поэтому:\n",
    "      if len(A[0]) == len(B):\n",
    "        \n",
    "        C = [[0 for el in range(len(A))] for el in range(len(A))]\n",
    "        BT = matr_transp(B)\n",
    "#         print(C)\n",
    "#         print(BT)\n",
    "        \n",
    "        for i1 in range(len(A)):\n",
    "#             print(f'i1: {i1}')\n",
    "            for i2 in range(len(A)):\n",
    "#                 print(f'i2: {i2}')\n",
    "                \n",
    "                for i3 in range(len(B)):\n",
    "#                     print(f'i3: {i3}')\n",
    "                    C[i1][i2] += A[i1][i3] * BT[i2][i3]\n",
    "        \n",
    "        return C\n",
    "    \n",
    "    else:\n",
    "        print(f'You have to put properly shaped matrixes in here :/')"
   ]
  },
  {
   "cell_type": "markdown",
   "metadata": {},
   "source": [
    "Часа полтора кумекал над этой функцией, нравится как в итоге получилось) Наверное, можно было обойтись без транспонирования второй матрицы, но я решил, что гулять, так гулять))) \n",
    "\n",
    "И сделал еще микро функцию для транспонирования, чтобы потом красиво скалярно умножать строку на строку, а не строку на столбец)"
   ]
  },
  {
   "cell_type": "code",
   "execution_count": 79,
   "metadata": {},
   "outputs": [
    {
     "name": "stdout",
     "output_type": "stream",
     "text": [
      "[[ 1  7]\n",
      " [ 3 -6]\n",
      " [ 5 -9]]\n",
      "\n",
      "[[ 0  5  4]\n",
      " [ 2 -1  7]]\n"
     ]
    }
   ],
   "source": [
    "A = np.array([[1, 7], [3, -6], [5, -9]])\n",
    "B = np.array([[0, 5, 4], [2, -1, 7]])\n",
    "\n",
    "print(f'{A}\\n\\n{B}')"
   ]
  },
  {
   "cell_type": "code",
   "execution_count": 81,
   "metadata": {},
   "outputs": [
    {
     "name": "stdout",
     "output_type": "stream",
     "text": [
      "[[14, -2, 53], [-12, 21, -30], [-18, 34, -43]]\n"
     ]
    }
   ],
   "source": [
    "print(matr_mult(A, B))"
   ]
  },
  {
   "cell_type": "code",
   "execution_count": 77,
   "metadata": {},
   "outputs": [
    {
     "name": "stdout",
     "output_type": "stream",
     "text": [
      "[[ 14  -2  53]\n",
      " [-12  21 -30]\n",
      " [-18  34 -43]]\n"
     ]
    }
   ],
   "source": [
    "print(A @ B)"
   ]
  },
  {
   "cell_type": "markdown",
   "metadata": {},
   "source": [
    "ниже мои ✨скетчи✨, пытался уложить в голове, как именно матрицы можно перенести в питон, типо структура списков в списках. Тройной цикл надо было выдумать, транспонировать матрицу для удобства и тд."
   ]
  },
  {
   "cell_type": "markdown",
   "metadata": {},
   "source": [
    "<img src=\"./img_l2/1-5.jpg\" alt=\"Drawing\" style=\"width: 600px;\"/>"
   ]
  },
  {
   "cell_type": "markdown",
   "metadata": {},
   "source": []
  },
  {
   "cell_type": "markdown",
   "metadata": {},
   "source": [
    "# Матричные операции. Часть 2"
   ]
  },
  {
   "cell_type": "markdown",
   "metadata": {},
   "source": [
    "#### __1.__ Вычислить определитель:\n",
    "\n",
    "   a)\n",
    "\n",
    "$\\begin{vmatrix}\n",
    "sinx & -cosx\\\\ \n",
    "cosx & sinx\n",
    "\\end{vmatrix};$\n",
    "\n",
    "   б)\n",
    "    \n",
    "$\\begin{vmatrix}\n",
    "4 & 2 & 3\\\\ \n",
    "0 & 5 & 1\\\\ \n",
    "0 & 0 & 9\n",
    "\\end{vmatrix};$\n",
    "    \n",
    "   в)\n",
    "\n",
    "$\\begin{vmatrix}\n",
    "1 & 2 & 3\\\\ \n",
    "4 & 5 & 6\\\\ \n",
    "7 & 8 & 9\n",
    "\\end{vmatrix}.$"
   ]
  },
  {
   "cell_type": "markdown",
   "metadata": {},
   "source": [
    "<img src=\"./img_l2/2-1.jpg\" alt=\"Drawing\" style=\"width: 600px;\"/>"
   ]
  },
  {
   "cell_type": "code",
   "execution_count": 93,
   "metadata": {},
   "outputs": [],
   "source": [
    "A = np.array([[np.sin(1), np.cos(1) * -1], [np.cos(1), np.sin(1)]])\n",
    "B = np.array([[4, 2, 3], [0, 5, 1], [0, 0, 9]])\n",
    "C = np.array([[1, 2, 3], [4, 5, 6], [7, 8, 9]])"
   ]
  },
  {
   "cell_type": "code",
   "execution_count": 99,
   "metadata": {},
   "outputs": [
    {
     "name": "stdout",
     "output_type": "stream",
     "text": [
      "Определитель матрицы А:\n",
      "1.0\n",
      "Определитель матрицы B:\n",
      "180.0\n",
      "Определитель матрицы C:\n",
      "6.66133814775094e-16\n",
      "Определитель матрицы C (посчитан вручную...):\n",
      "0\n"
     ]
    }
   ],
   "source": [
    "print(f\"Определитель матрицы А:\\n{np.linalg.det(A)}\")\n",
    "print(f\"Определитель матрицы B:\\n{np.linalg.det(B)}\")\n",
    "\n",
    "print(f'Определитель матрицы C:\\n{np.linalg.det(C)}')\n",
    "print(f'Определитель матрицы C (посчитан вручную...):\\n{1*(5*9 - 8*6) - 2*(4*9 - 7*6) + 3*(4*8 - 7*5)}')"
   ]
  },
  {
   "cell_type": "markdown",
   "metadata": {},
   "source": [
    "#### __2.__ Определитель матрицы $A$ равен $4$. Найти:\n",
    "\n",
    "   а) $det(A^{2})$;\n",
    "    \n",
    "   б) $det(A^{T})$;\n",
    "    \n",
    "   в) $det(2A)$."
   ]
  },
  {
   "cell_type": "markdown",
   "metadata": {},
   "source": [
    "а) 16, просто методом подбора проверил на двух квадратных матрицах 2х2. Определитель возводится в степень, в которую возводят саму матрицу\n",
    "\n",
    "если определитель был 16 и матрицу возвести в квадрат - детерминатор станет 256\n",
    "\n",
    "б) определитель будет 4, по первому свойству из методички, у транспонированой и обычной матрицы определители одинаковые.\n",
    "\n",
    "в) 16, тоже самое, просто проверил, посчитав руками... Определитель считает не совсем очевидным образом, у меня получилось:\n",
    "\n",
    "det(kA) = det(A) * k^2, \n",
    "где k - множитель матрицы\n",
    "\n",
    "в нашем случае получается k=2, 4 * 2^2 = 16,\n",
    "\n",
    "если k=3, 4 * 3^2 = 36,\n",
    "\n",
    "если k=4, 4 * 4^2 = 64,\n",
    "\n",
    "если k=5, 4 * 5^2 = 100"
   ]
  },
  {
   "cell_type": "markdown",
   "metadata": {},
   "source": [
    "_просто вручную считал варианты определителей разных_ 👇"
   ]
  },
  {
   "cell_type": "markdown",
   "metadata": {},
   "source": [
    "<img src=\"./img_l2/2-2.jpg\" alt=\"Drawing\" style=\"width: 600px;\"/>"
   ]
  },
  {
   "cell_type": "markdown",
   "metadata": {},
   "source": [
    "#### _после просмотра разбора удивлен, что правильно нашел как быть с определителем при умножении матрицы))) Хоть и методом тыка, но правильно))_"
   ]
  },
  {
   "cell_type": "markdown",
   "metadata": {},
   "source": [
    "#### __3.__  Доказать, что матрица вырожденная.\n",
    "\n",
    "$\\begin{pmatrix}\n",
    "-2 & 7 & -3\\\\ \n",
    "4 & -14 & 6\\\\ \n",
    "-3 & 7 & 13\n",
    "\\end{pmatrix}$"
   ]
  },
  {
   "cell_type": "code",
   "execution_count": 101,
   "metadata": {},
   "outputs": [
    {
     "name": "stdout",
     "output_type": "stream",
     "text": [
      "0.0\n"
     ]
    }
   ],
   "source": [
    "A = np.array([[-2, 7, -3], [4, -14, 6], [-3, 7, 13]])\n",
    "\n",
    "print(np.linalg.det(A))"
   ]
  },
  {
   "cell_type": "markdown",
   "metadata": {},
   "source": [
    "Так как определитель матрицы 0 - матрица вырожденная "
   ]
  },
  {
   "cell_type": "markdown",
   "metadata": {},
   "source": [
    "#### __4.__ Найти ранг матрицы:\n",
    "\n",
    "   а) $\\begin{pmatrix}\n",
    "1 & 2 & 3\\\\ \n",
    "1 & 1 & 1\\\\ \n",
    "2 & 3 & 4\n",
    "\\end{pmatrix};$\n",
    "\n",
    "   б) $\\begin{pmatrix}\n",
    "0 & 0 & 2 & 1\\\\ \n",
    "0 & 0 & 2 & 2\\\\ \n",
    "0 & 0 & 4 & 3\\\\ \n",
    "2 & 3 & 5 & 6\n",
    "\\end{pmatrix}.$"
   ]
  },
  {
   "cell_type": "markdown",
   "metadata": {},
   "source": [
    "а) ранг матрицы 2, так как третья строчка - это вектор, полученный сложением первых двух строк\n"
   ]
  },
  {
   "cell_type": "markdown",
   "metadata": {},
   "source": [
    "б) матрица содержит не нулевые значения, значит ранг ее не меньше 1, но и не больше 4 из-за кол-ва строк/столбцов \n",
    "\n",
    "третья строка может быть выражена через сложение первых двух, вычеркиваем ее. Теперь ранг матрицы не больше 3\n",
    "\n",
    "матрица: $\\begin{pmatrix}\n",
    "0 & 0 & 2 & 1\\\\ \n",
    "0 & 0 & 2 & 2\\\\ \n",
    "2 & 3 & 5 & 6\n",
    "\\end{pmatrix}.$"
   ]
  },
  {
   "cell_type": "markdown",
   "metadata": {},
   "source": [
    "ищу через миноры не нулевые определители, сначала второго порядка. Определитель минора: $\\begin{vmatrix}\n",
    "2 & 1\\\\ \n",
    "2 & 2\n",
    "\\end{vmatrix}$ = 1, значит ранг матрицы минимум 2 и максимум 3"
   ]
  },
  {
   "cell_type": "markdown",
   "metadata": {},
   "source": [
    "теперь смотрю миноры третьего порядка. Определитель минора: $\\begin{vmatrix}\n",
    "0 & 2 & 1\\\\\n",
    "0 & 2 & 2\\\\\n",
    "3 & 5 & 6\n",
    "\\end{vmatrix}$ = 6, **значит ранг матрицы б) = 3**"
   ]
  },
  {
   "cell_type": "markdown",
   "metadata": {},
   "source": [
    "**прошу прощения за дикие задержки по дедлайнам...**"
   ]
  }
 ],
 "metadata": {
  "kernelspec": {
   "display_name": "Python 3",
   "language": "python",
   "name": "python3"
  },
  "language_info": {
   "codemirror_mode": {
    "name": "ipython",
    "version": 3
   },
   "file_extension": ".py",
   "mimetype": "text/x-python",
   "name": "python",
   "nbconvert_exporter": "python",
   "pygments_lexer": "ipython3",
   "version": "3.8.5"
  }
 },
 "nbformat": 4,
 "nbformat_minor": 4
}
