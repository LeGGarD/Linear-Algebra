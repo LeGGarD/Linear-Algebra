{
 "cells": [
  {
   "cell_type": "markdown",
   "metadata": {},
   "source": [
    "__1.__ Найти собственные векторы и собственные значения для линейного оператора, заданного матрицей\n",
    "\n",
    "$$A=\\begin{pmatrix}\n",
    "-1 & -6\\\\ \n",
    "2 & 6\n",
    "\\end{pmatrix}.$$\n",
    "\n"
   ]
  },
  {
   "cell_type": "markdown",
   "metadata": {},
   "source": [
    "<img src='./img_l3/1-1.jpg' alt=\"Drawing\" style='width: 600px;'/>"
   ]
  },
  {
   "cell_type": "markdown",
   "metadata": {},
   "source": [
    "Собственные значения этого линейного оператора: 2 и 3\n",
    "\n",
    "Собственные векторы это:\n",
    "\n",
    "u1 = (-2, 1) или (2, -1) \n",
    "\n",
    "u2 = (-3, 2) или (3, -2)\n",
    "\n",
    "я сначала подставлял легкие числа в игрек, а потом прочитал, что правильнее брать \"красивые\" вектора, где будет минимальный позитивный икс, поэтому так написано)"
   ]
  },
  {
   "cell_type": "markdown",
   "metadata": {},
   "source": [
    "__2.__ Дан оператор поворота на 180 градусов, задаваемый матрицей \n",
    "\n",
    "$$A=\\begin{pmatrix}\n",
    "-1 & 0\\\\ \n",
    "0 & -1\n",
    "\\end{pmatrix}.$$\n",
    "\n",
    "Показать, что __любой__ вектор является для него собственным.\n",
    "\n"
   ]
  },
  {
   "cell_type": "markdown",
   "metadata": {},
   "source": [
    "<img src='./img_l3/1-2.jpg' alt=\"Drawing\" style='width: 600px;'/>"
   ]
  },
  {
   "cell_type": "markdown",
   "metadata": {},
   "source": [
    "<img src='./img_l3/1-2-2.jpg' alt=\"Drawing\" style='width: 600px;'/>"
   ]
  },
  {
   "cell_type": "markdown",
   "metadata": {},
   "source": [
    "Оператор выражен диагональной матрицей. Такие операторы обычно вытягивают или сжимают вектора. В данном случае, оператор просто разворачивает вектор по обоим осям (умножает его на -1, инверсирует, не знаю какой термин правильный) \n",
    "\n",
    "Был бы оператор не с единицами на диагонали - координаты вектора умножались бы или делились, а тут просто меняют знак"
   ]
  },
  {
   "cell_type": "markdown",
   "metadata": {},
   "source": [
    "__3.__ Пусть линейный оператор задан матрицей\n",
    "\n",
    "$$A=\\begin{pmatrix}\n",
    "1 & 1\\\\ \n",
    "-1 & 3\n",
    "\\end{pmatrix}.$$\n",
    "\n",
    "Установить, является ли вектор $x=(1,1)$ собственным вектором этого линейного оператора.\n",
    "\n"
   ]
  },
  {
   "cell_type": "markdown",
   "metadata": {},
   "source": [
    "<img src='./img_l3/1-3.jpg' alt=\"Drawing\" style='width: 600px;'/>"
   ]
  },
  {
   "cell_type": "markdown",
   "metadata": {},
   "source": [
    "A**x** = λ**x**, значит вектор собственный"
   ]
  },
  {
   "cell_type": "markdown",
   "metadata": {},
   "source": [
    "__4.__ Пусть линейный оператор задан матрицей\n",
    "\n",
    "$$A=\\begin{pmatrix}\n",
    "0 & 3 & 0\\\\ \n",
    "3 & 0 & 0\\\\\n",
    "0 & 0 & 3\n",
    "\\end{pmatrix}.$$\n",
    "\n",
    "Установить, является ли вектор $x=(3, -3, -4)$ собственным вектором этого линейного оператора."
   ]
  },
  {
   "cell_type": "markdown",
   "metadata": {},
   "source": [
    "<img src='./img_l3/1-4.jpg' alt=\"Drawing\" style='width: 600px;'/>"
   ]
  },
  {
   "cell_type": "markdown",
   "metadata": {},
   "source": [
    "Противоположенно предыдущему заданию. Знаки вектора поменялись, значит вектор не собственный, он уже другой совсем\n",
    "\n",
    "Если бы оператор был задан диагональной матрицей $A=\\begin{pmatrix}\n",
    "3 & 0 & 0\\\\ \n",
    "0 & 3 & 0\\\\\n",
    "0 & 0 & 3\n",
    "\\end{pmatrix}$ тогда вектор остался бы собственным"
   ]
  }
 ],
 "metadata": {
  "kernelspec": {
   "display_name": "Python 3",
   "language": "python",
   "name": "python3"
  },
  "language_info": {
   "codemirror_mode": {
    "name": "ipython",
    "version": 3
   },
   "file_extension": ".py",
   "mimetype": "text/x-python",
   "name": "python",
   "nbconvert_exporter": "python",
   "pygments_lexer": "ipython3",
   "version": "3.8.5"
  }
 },
 "nbformat": 4,
 "nbformat_minor": 4
}
